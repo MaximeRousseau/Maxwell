{
 "cells": [
  {
   "cell_type": "markdown",
   "metadata": {},
   "source": [
    "# Stokes\n"
   ]
  },
  {
   "cell_type": "markdown",
   "metadata": {},
   "source": [
    "On peut discrétiser l'équation biharmonique  $\\nabla ^4 = \\partial ^4_x + 2\\partial^2_x\\partial^2_y + \\partial^4_y$ en utilisant la méthode des \"central finite difference discretization\" du second ordre, ce qui nous donne "
   ]
  },
  {
   "cell_type": "markdown",
   "metadata": {},
   "source": [
    "\n",
    "\n",
    "\\begin{equation}\n",
    "\\nabla^4 u(i,j) = \\frac{u(i+2, j) + u(i-2, j) + 6u(i, j) - 4 u(i+1, j) - 4u(i-1, j)}{dx^4} + \\frac{u(i, j+2) + u(i, j-2) + 6u(i, j) - 4 u(i, j+1) - 4u(i, j-1)}{dy^4} + 2 \\frac{u(i+1, j+1) + u (i+1, j-1) + u(i-1, j+1) + u(i-1, j-1) -2(u(i+1, j) + u(i-1, j) + u(i, j+1) + u(i, j-1)) +4u(i,j)}{dx^2 dy^2}\n",
    "\\end{equation}"
   ]
  },
  {
   "cell_type": "markdown",
   "metadata": {},
   "source": [
    "Comme dx = dy "
   ]
  },
  {
   "cell_type": "markdown",
   "metadata": {},
   "source": [
    "\n",
    "\n",
    "\\begin{equation}\n",
    "\\nabla^4 u(i,j) = \\frac{20u(i,j) + u(i-2,j) + u(i,j-2) + u(i+2,j) + u(i,j+2) - 8[u(i-1,j) + u(i,j-1) + u(i+1,j) + u(i,j+1)}{dx^4} + \\frac{2[u(i-1,j-1) + u(i-1,j+1) + u(i+1,j-1) + u(i+1,j+1)]}{dx^4}\n",
    "\\end{equation}"
   ]
  },
  {
   "cell_type": "markdown",
   "metadata": {
    "collapsed": true
   },
   "source": [
    "On implémente les condition de bord de Neumann en utilisant \"forward or backward finite difference discretization\" au second ordre. Nous devons faire attention que tout nos point entre dans le domaine car nous avont des point du style u(i-2,j), u(i+2,j) qui intervienne en fonction de la discrétisation forward ou backward. "
   ]
  },
  {
   "cell_type": "markdown",
   "metadata": {
    "collapsed": true
   },
   "source": [
    "On a comme condition $\\partial_x \\psi$ = 0 et $\\partial_y \\psi$ = 0 ou 1 "
   ]
  },
  {
   "cell_type": "markdown",
   "metadata": {
    "collapsed": true
   },
   "source": [
    "Pour le coter bas et gauche nous utiliseron une \"forward finite difference discretization\" et pour le haut et droit une \"backward finite difference discretization\"."
   ]
  },
  {
   "cell_type": "markdown",
   "metadata": {},
   "source": [
    "Backward finite difference discretization:"
   ]
  },
  {
   "cell_type": "markdown",
   "metadata": {},
   "source": [
    "\\begin{equation}\n",
    "\\partial_x u(i,j) = \\frac{\\frac{3}{2}u(i,j) - 2u(i-1,j) + \\frac{1}{2}u(i-2,j)}{dx}\n",
    "\\end{equation}"
   ]
  },
  {
   "cell_type": "markdown",
   "metadata": {},
   "source": [
    "Ce qui nous donne "
   ]
  },
  {
   "cell_type": "markdown",
   "metadata": {},
   "source": [
    "\\begin{equation}\n",
    "\\psi(i,j) = \\frac{2}{3}[2\\psi(i-1,j) - \\frac{1}{2}\\psi(i-2,j)]\n",
    "\\end{equation}"
   ]
  },
  {
   "cell_type": "markdown",
   "metadata": {},
   "source": [
    "Forward finite difference discretization:"
   ]
  },
  {
   "cell_type": "markdown",
   "metadata": {},
   "source": [
    "\\begin{equation}\n",
    "\\partial_x u(i,j) = \\frac{-\\frac{3}{2}u(i,j) + 2u(i+1,j) - \\frac{1}{2}u(i+2,j)}{dx}\n",
    "\\end{equation}"
   ]
  },
  {
   "cell_type": "markdown",
   "metadata": {},
   "source": [
    "Ce qui nous donne "
   ]
  },
  {
   "cell_type": "markdown",
   "metadata": {},
   "source": [
    "\\begin{equation}\n",
    "\\psi(i,j) = \\frac{2}{3}[2\\psi(i+1,j) - \\frac{1}{2}\\psi(i+2,j)]\n",
    "\\end{equation}"
   ]
  },
  {
   "cell_type": "markdown",
   "metadata": {
    "collapsed": true
   },
   "source": [
    "On résoud ensuite l'équation biharmonique "
   ]
  },
  {
   "cell_type": "code",
   "execution_count": 1,
   "metadata": {
    "collapsed": true
   },
   "outputs": [],
   "source": [
    "import numpy\n",
    "import numba\n",
    "from numba import jit\n",
    "from matplotlib import pyplot\n",
    "%matplotlib inline"
   ]
  },
  {
   "cell_type": "code",
   "execution_count": 2,
   "metadata": {
    "collapsed": true
   },
   "outputs": [],
   "source": [
    "# Parameters \n",
    "nx = 41\n",
    "ny = 41\n",
    "\n",
    "l = 1.\n",
    "h = 1.\n",
    "\n",
    "dx = l/(nx-1)\n",
    "dy = h/(ny-1)\n",
    "\n",
    "\n",
    "u = 1.\n",
    "\n",
    "l1_target = 1e-8\n",
    "\n",
    "# Initialization for psi \n",
    "p = numpy.zeros((nx,nx))  # Dirichlet BCs are automatically enforced\n",
    "# w = numpy.zeros((nx,nx))"
   ]
  },
  {
   "cell_type": "code",
   "execution_count": 3,
   "metadata": {
    "collapsed": true
   },
   "outputs": [],
   "source": [
    "@jit\n",
    "def L1norm(new, old):\n",
    "    norm = numpy.sum(numpy.abs(new-old))\n",
    "    return norm"
   ]
  },
  {
   "cell_type": "code",
   "execution_count": 4,
   "metadata": {
    "collapsed": true
   },
   "outputs": [],
   "source": [
    "def biharm(p, dx, u):\n",
    "    \n",
    "    ''' Calculate biharmonique with BC\n",
    "    \n",
    "    Parameters:\n",
    "    ----------\n",
    "    p : 2D array of floats\n",
    "        Initial guess\n",
    "    dx: float\n",
    "        Mesh spacing\n",
    "    u : parameter for Neumann BC \n",
    "    \n",
    "    Returns:\n",
    "    -------\n",
    "    biharm: 2D array of float\n",
    "        biharmonic of p\n",
    "    \n",
    "    '''\n",
    "    \n",
    "    a = p.copy()\n",
    "        \n",
    "    # Enforce Neumann BC\n",
    "    #Top\n",
    "    a[-1,0:] = (2/3) * (dx*u + 2 * a[-2,0:] - (1/2) * a[-3,0:])\n",
    "    #Bot\n",
    "    a[0,0:] = (2/3) * (2 * a[1,0:] - (1/2) * a[2,0:])\n",
    "    #Left\n",
    "    a[0:,0] = (2/3) * (2 * a[0:,1] - (1/2) * a[0:,2])\n",
    "    #Right \n",
    "    a[0:,-1] = (2/3) * (2 * a[0:,-1] - (1/2) * a[0:,-2])\n",
    "        \n",
    "    \n",
    "    biharm = numpy.zeros(a.shape)\n",
    "    biharm[2:-2,2:-2] = (20*a[2:-2,2:-2] + a[:-4,2:-2] + a[2:-2,:-4] + a[4:,2:-2] + a[2:-2,4:] - \\\n",
    "    8 * (a[1:-3,2:-2] + a[2:-2,1:-3] + a[3:-1,2:-2] + a[2:-2,3:-1]) + \\\n",
    "    2 * (a[1:-3,1:-3] + a[1:-3,3:-1] + a[3:-1,1:-3] + a[3:-1,3:-1]))/(dx**4)\n",
    "    \n",
    "    \n",
    "    return biharm\n",
    "    "
   ]
  },
  {
   "cell_type": "code",
   "execution_count": 5,
   "metadata": {
    "collapsed": true
   },
   "outputs": [],
   "source": [
    "def conjugate_gradient_Cours(p, dx, l2_target):\n",
    "    '''Performs cg relaxation\n",
    "    Assumes Dirichlet boundary conditions p=0\n",
    "    \n",
    "    Parameters:\n",
    "    ----------\n",
    "    p : 2D array of floats\n",
    "        Initial guess\n",
    "    b : 2D array of floats\n",
    "        Source term\n",
    "    dx: float\n",
    "        Mesh spacing \n",
    "    \n",
    "    l2_target: float\n",
    "        exit criterion\n",
    "        \n",
    "    Returns:\n",
    "    -------\n",
    "    p: 2D array of float\n",
    "        Distribution after relaxation\n",
    "    '''\n",
    "    ny, nx = p.shape\n",
    "    r  = numpy.zeros((ny,nx)) # residual\n",
    "    Ad  = numpy.zeros((ny,nx)) # to store result of matrix multiplication \n",
    "    \n",
    "    l1_norm = 1\n",
    "    iterations = 0\n",
    "    \n",
    "    # Step-0 We compute the initial residual and \n",
    "    # the first search direction is just this residual\n",
    "    \n",
    "    r = -biharm(p, dx, u)\n",
    "    d = r.copy()\n",
    "    rho = numpy.sum(r*r)\n",
    "    Ad = biharm(d, dx, u)\n",
    "    sigma = numpy.sum(d*Ad)\n",
    "    \n",
    "    # Iterations\n",
    "    while l1_norm > l1_target:\n",
    "\n",
    "        pk = p.copy()\n",
    "        rk = r.copy()\n",
    "        dk = d.copy()\n",
    "        \n",
    "        alpha = rho/sigma\n",
    "\n",
    "        p = pk + alpha*dk\n",
    "        r = rk- alpha*Ad\n",
    "        \n",
    "        rhop1 = numpy.sum(r*r)\n",
    "        beta = rhop1 / rho\n",
    "        rho = rhop1\n",
    "        \n",
    "        d = r + beta*dk\n",
    "        Ad = biharm(d, dx, u)\n",
    "        sigma = numpy.sum(d*Ad)\n",
    "        \n",
    "        # BCs are automatically enforced\n",
    "        \n",
    "        l1_norm = L1norm(pk,p)\n",
    "        iterations += 1\n",
    "        \n",
    "    \n",
    "    print('Number of CG iterations: {0:d}'.format(iterations))\n",
    "    return p"
   ]
  },
  {
   "cell_type": "code",
   "execution_count": 6,
   "metadata": {},
   "outputs": [
    {
     "name": "stdout",
     "output_type": "stream",
     "text": [
      "Number of CG iterations: 63775\n"
     ]
    }
   ],
   "source": [
    "#p = numpy.zeros((ny,nx))\n",
    "p = conjugate_gradient_Cours(p, dx, l1_target)"
   ]
  },
  {
   "cell_type": "code",
   "execution_count": 10,
   "metadata": {
    "scrolled": false
   },
   "outputs": [
    {
     "data": {
      "text/plain": [
       "<matplotlib.colorbar.Colorbar at 0x1185ad160>"
      ]
     },
     "execution_count": 10,
     "metadata": {},
     "output_type": "execute_result"
    },
    {
     "data": {
      "image/png": "[encoded data removed]",
      "text/plain": [
       "<matplotlib.figure.Figure at 0x11831d9e8>"
      ]
     },
     "metadata": {},
     "output_type": "display_data"
    }
   ],
   "source": [
    "x=numpy.linspace(0, l, nx)\n",
    "y=numpy.linspace(0, h, ny)\n",
    "pyplot.figure(figsize=(6,6))\n",
    "pyplot.contourf(x,y,p,15)\n",
    "pyplot.xlabel('$x$')\n",
    "pyplot.ylabel('$y$')\n",
    "pyplot.colorbar()"
   ]
  },
  {
   "cell_type": "markdown",
   "metadata": {},
   "source": [
    "Value of the stream function at location (x,y): (0.6,0.2), (0.6,0.4), (0.6,0.6), (0.6,0.8)"
   ]
  },
  {
   "cell_type": "code",
   "execution_count": 37,
   "metadata": {},
   "outputs": [
    {
     "name": "stdout",
     "output_type": "stream",
     "text": [
      "value at (0.6,0.2) = -0.00871707547751\n",
      "value at (0.6,0.4) = -0.0314493645534\n",
      "value at (0.6,0.6) = -0.0630539370419\n",
      "value at (0.6,0.8) = -0.0757084226159\n"
     ]
    }
   ],
   "source": [
    "print(\"value at (0.6,0.2) =\" , p[8,24])\n",
    "print(\"value at (0.6,0.4) =\", p[16,24])\n",
    "print(\"value at (0.6,0.6) =\", p[24,24])\n",
    "print(\"value at (0.6,0.8) =\", p[32,24])"
   ]
  },
  {
   "cell_type": "code",
   "execution_count": null,
   "metadata": {
    "collapsed": true
   },
   "outputs": [],
   "source": []
  }
 ],
 "metadata": {
  "kernelspec": {
   "display_name": "Python 3",
   "language": "python",
   "name": "python3"
  },
  "language_info": {
   "codemirror_mode": {
    "name": "ipython",
    "version": 3
   },
   "file_extension": ".py",
   "mimetype": "text/x-python",
   "name": "python",
   "nbconvert_exporter": "python",
   "pygments_lexer": "ipython3",
   "version": "3.6.2"
  }
 },
 "nbformat": 4,
 "nbformat_minor": 2
}
